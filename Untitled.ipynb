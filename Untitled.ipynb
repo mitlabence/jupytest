{
 "cells": [
  {
   "cell_type": "code",
   "execution_count": null,
   "id": "7479c3b2",
   "metadata": {},
   "outputs": [],
   "source": [
    "print(\"Hello world\")"
   ]
  },
  {
   "cell_type": "code",
   "execution_count": null,
   "id": "cb3df3cd",
   "metadata": {},
   "outputs": [],
   "source": [
    "from matplotlib import pyplot as plt"
   ]
  },
  {
   "cell_type": "code",
   "execution_count": null,
   "id": "e2360bd4",
   "metadata": {},
   "outputs": [],
   "source": [
    "fig = plt.figure()\n",
    "plt.plot([x for x in range(100)])\n",
    "plt.show()"
   ]
  },
  {
   "cell_type": "code",
   "execution_count": null,
   "id": "0afd5e31",
   "metadata": {},
   "outputs": [],
   "source": [
    "print(\"Changed\")\n",
    "\n",
    "\n",
    "print(\"somtig\")"
   ]
  },
  {
   "cell_type": "code",
   "execution_count": 7,
   "id": "1f345469",
   "metadata": {},
   "outputs": [],
   "source": [
    "import glob\n",
    "import os\n",
    "\n",
    "ipynb_files = glob.glob('**/*.ipynb', recursive=True)\n",
    "\n",
    "for f in ipynb_files:\n",
    "    os.system(\"jupyter nbconvert %s --to html\"%f) # convert to html\n",
    "    os.system(\"jupyter nbconvert %s --clear-output\"%f) # clear output\n"
   ]
  },
  {
   "cell_type": "code",
   "execution_count": null,
   "id": "0829239e",
   "metadata": {},
   "outputs": [],
   "source": []
  }
 ],
 "metadata": {
  "kernelspec": {
   "display_name": "Python 3 (ipykernel)",
   "language": "python",
   "name": "python3"
  },
  "language_info": {
   "codemirror_mode": {
    "name": "ipython",
    "version": 3
   },
   "file_extension": ".py",
   "mimetype": "text/x-python",
   "name": "python",
   "nbconvert_exporter": "python",
   "pygments_lexer": "ipython3",
   "version": "3.11.5"
  }
 },
 "nbformat": 4,
 "nbformat_minor": 5
}
